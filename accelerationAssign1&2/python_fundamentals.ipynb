{
 "cells": [
  {
   "cell_type": "code",
   "execution_count": 20,
   "metadata": {},
   "outputs": [],
   "source": [
    "#let's start python programming!\n",
    "\n",
    "#hastag is for line comment \n",
    "#comment line doesn't affect the actual program executation at all."
   ]
  },
  {
   "cell_type": "markdown",
   "metadata": {},
   "source": [
    "We can also add markdown cell which behave like line comment  "
   ]
  },
  {
   "cell_type": "code",
   "execution_count": 21,
   "metadata": {},
   "outputs": [
    {
     "name": "stdout",
     "output_type": "stream",
     "text": [
      "Hello Advance Pysics Course!\n",
      "3\n",
      "1+2\n"
     ]
    },
    {
     "data": {
      "text/plain": [
       "'the variable alone in the last row of the cell is printed'"
      ]
     },
     "execution_count": 21,
     "metadata": {},
     "output_type": "execute_result"
    }
   ],
   "source": [
    "#print\n",
    " \n",
    "print('Hello Advance Pysics Course!') #prints the text/String\n",
    "\n",
    "print(3) #print the number \n",
    "\n",
    "print('1+2') #prints the text string \n",
    "\n",
    "'the variable alone in the last row of the cell is printed'"
   ]
  },
  {
   "cell_type": "code",
   "execution_count": 22,
   "metadata": {},
   "outputs": [
    {
     "name": "stdout",
     "output_type": "stream",
     "text": [
      "str\n",
      "str\n",
      "int\n",
      "float\n",
      "float\n"
     ]
    }
   ],
   "source": [
    "# Defining Variable in python\n",
    "#doesn't need to define data type\n",
    "\n",
    "a = \"cat\"\n",
    "b = \"dog\"\n",
    "c = 231\n",
    "d = 12.34\n",
    "e = 987654312234659458568746565443767846.2\n",
    "\n",
    "print(type(a).__name__)\n",
    "print(type(b).__name__)\n",
    "print(type(c).__name__)\n",
    "print(type(d).__name__)\n",
    "print(type(e).__name__)\n",
    "\n",
    "#python automatically define the (optimal) data type according to optimal input \n",
    "#In case of text String there are no aöternative options \n"
   ]
  },
  {
   "cell_type": "code",
   "execution_count": 23,
   "metadata": {},
   "outputs": [
    {
     "name": "stdout",
     "output_type": "stream",
     "text": [
      "str\n",
      "str\n"
     ]
    }
   ],
   "source": [
    "#Data types in python \n",
    "\n",
    "x = str(\"hellow\")\n",
    "print(type(x).__name__)\n",
    "\n",
    "x = \"Hello\"\n",
    "print(type(x).__name__)\n",
    "\n",
    "#data type in both the cases is same i.e. string"
   ]
  },
  {
   "cell_type": "code",
   "execution_count": 24,
   "metadata": {},
   "outputs": [
    {
     "name": "stdout",
     "output_type": "stream",
     "text": [
      "The Value are\n",
      "20\n",
      "20\n",
      "20.0\n",
      "(20+0j)\n",
      "The types are:\n",
      "int\n",
      "int\n",
      "float\n",
      "complex\n"
     ]
    }
   ],
   "source": [
    "#Number Data Types\n",
    "\n",
    "a = 20\n",
    "b = int(20)\n",
    "c = float(20)\n",
    "d = complex(20)\n",
    "\n",
    "print(\"The Value are\")\n",
    "print(a)\n",
    "print(b)\n",
    "print(c)\n",
    "print(d)\n",
    "\n",
    "#The numbers doesn't change in this case but float has decimal and complex has imaginary part \n",
    "\n",
    "print(\"The types are:\")\n",
    "print(type(a).__name__)\n",
    "print(type(b).__name__)\n",
    "print(type(c).__name__)\n",
    "print(type(d).__name__)"
   ]
  },
  {
   "cell_type": "code",
   "execution_count": 25,
   "metadata": {},
   "outputs": [
    {
     "name": "stdout",
     "output_type": "stream",
     "text": [
      "Casting to int\n",
      "6\n",
      "6\n",
      "6\n"
     ]
    }
   ],
   "source": [
    "#Casting to int \n",
    "print(\"Casting to int\")\n",
    "a = int(6) #casting to int to int, keeps the full accuracy\n",
    "b = int(6.9) #casting to int from float, losses the decimal part\n",
    "c = int(\"6\") #casting to int from string, keeps the full accuracy\n",
    "print(a)\n",
    "print(b)\n",
    "print(c)"
   ]
  },
  {
   "cell_type": "code",
   "execution_count": 26,
   "metadata": {},
   "outputs": [
    {
     "name": "stdout",
     "output_type": "stream",
     "text": [
      "Casting to float\n",
      "6.0\n",
      "6.9\n",
      "6.0\n"
     ]
    }
   ],
   "source": [
    "# Casting to float\n",
    "print(\"Casting to float\")\n",
    "a = float(6) #casting to float from int, keeps the full accuracy\n",
    "b = float(6.9) #casting to float from float, keeps the full accuracy\n",
    "c = float(\"6\") #casting to float from string, keeps the full accuracy\n",
    "print(a)\n",
    "print(b)\n",
    "print(c)\n",
    "# outputs are always decimal numbers like 6.0, 6.9, 6.0"
   ]
  },
  {
   "cell_type": "code",
   "execution_count": 27,
   "metadata": {},
   "outputs": [
    {
     "name": "stdout",
     "output_type": "stream",
     "text": [
      "Casting to string\n",
      "6\n",
      "6.9\n",
      "6\n"
     ]
    }
   ],
   "source": [
    "# Casting to string\n",
    "print(\"Casting to string\")\n",
    "a = str(6) #casting to string from int, keeps the full accuracy\n",
    "b = str(6.9) #casting to string from float, keeps the full accuracy\n",
    "c = str(\"6\") #casting to string from string, keeps the full accuracy\n",
    "print(a)\n",
    "print(b)\n",
    "print(c)\n",
    "# outputs are always strings like \"6\", \"6.9\", \"6\""
   ]
  },
  {
   "cell_type": "code",
   "execution_count": 28,
   "metadata": {},
   "outputs": [
    {
     "name": "stdout",
     "output_type": "stream",
     "text": [
      "Hello Oamk Advance Physics Course\n",
      "HelloOamkAdvancePhysicsCourse\n",
      "Hello Oamk 2024 Advance Physics Course!\n",
      "39\n",
      "Hello Oamk\n"
     ]
    }
   ],
   "source": [
    "# few things about string   \n",
    "#string can be defined by single or double quotes\n",
    "\n",
    "a = \"Hello Oamk Advance Physics Course\"\n",
    "print(a)\n",
    "\n",
    "a = 'Hello' + 'Oamk' + 'Advance' + 'Physics' + 'Course'\n",
    "print(a)\n",
    "\n",
    "a = 'Hello' + ' ' + 'Oamk' + ' ' + str(2024) + ' ' + 'Advance ' + 'Physics' + ' ' + 'Course' + '!'\n",
    "print(a)\n",
    "\n",
    "print(len(a)) #prints the length of the string\n",
    "print(a[0:10]) #prints the first 10 characters of the string"
   ]
  },
  {
   "cell_type": "code",
   "execution_count": 29,
   "metadata": {},
   "outputs": [
    {
     "name": "stdout",
     "output_type": "stream",
     "text": [
      "True\n",
      "bool\n",
      "False\n",
      "bool\n"
     ]
    }
   ],
   "source": [
    "# boolean data type\n",
    "\n",
    "a = True\n",
    "b = False\n",
    "print(a)\n",
    "print(type(a).__name__)\n",
    "print(b)\n",
    "print(type(b).__name__)\n",
    "\n"
   ]
  },
  {
   "cell_type": "code",
   "execution_count": 30,
   "metadata": {},
   "outputs": [
    {
     "name": "stdout",
     "output_type": "stream",
     "text": [
      "True\n",
      "bool\n",
      "x is greater than 3\n",
      "6\n",
      "int\n"
     ]
    }
   ],
   "source": [
    "# boolean operators in loop \n",
    "\n",
    "x = 5\n",
    "b = (x > 3)\n",
    "print(b)\n",
    "print(type(b).__name__)\n",
    "\n",
    "if b: #if b is true\n",
    "    print(\"x is greater than 3\")\n",
    "else: #if b is false\n",
    "    print(\"x is not greater than 3\")\n",
    "\n",
    "c = x + b\n",
    "print(c)\n",
    "print(type(c).__name__)\n"
   ]
  },
  {
   "cell_type": "code",
   "execution_count": 31,
   "metadata": {},
   "outputs": [
    {
     "name": "stdout",
     "output_type": "stream",
     "text": [
      "7\n",
      "-1\n",
      "12\n",
      "0.75\n",
      "3\n",
      "81\n",
      "0\n"
     ]
    }
   ],
   "source": [
    "#Operators in python\n",
    "\n",
    "x = 3 \n",
    "y = 4\n",
    "\n",
    "print(x + y) #addition\n",
    "print(x - y) #subtraction\n",
    "print(x * y) #multiplication\n",
    "print(x / y) #division\n",
    "print(x % y) #modulus\n",
    "print(x ** y) #exponentiation\n",
    "print(x // y) #floor division\n",
    "\n"
   ]
  },
  {
   "cell_type": "code",
   "execution_count": 33,
   "metadata": {},
   "outputs": [
    {
     "name": "stdout",
     "output_type": "stream",
     "text": [
      "['orange', 'banana', 'cherry']\n",
      "[0.12, 1, 'apple', True, (5+6j)]\n",
      "list\n",
      "orange\n",
      "2\n",
      "2.34\n",
      "False\n",
      "(7+8j)\n",
      "0.12\n"
     ]
    }
   ],
   "source": [
    "#list in python\n",
    "#list of strings, numbers, floats, boolean, complex numbers or combination of all\n",
    "#list is a collection which is ordered and changeable. Allows duplicate members.\n",
    "#list is defined by square brackets\n",
    "\n",
    "a = [\"apple\", \"banana\", \"cherry\"]\n",
    "b = [1, 2, 3, 4, 5]\n",
    "c = [0.12, 1.23, 2.34, 3.45, 4.56]\n",
    "d = [True, False, True, False]\n",
    "e = [3+4j, 4+5j, 5+6j, 6+7j, 7+8j]\n",
    "f = [0.12, 1, \"apple\", True, 3+4j]\n",
    "\n",
    "#List is mutable i.e. can be changed\n",
    "a[0] = \"orange\"\n",
    "print(a)\n",
    "\n",
    "f[4] = 5+6j\n",
    "print(f)\n",
    "print(type(f).__name__)\n",
    "\n",
    "#List can be accessed by index\n",
    "print(a[0])\n",
    "print(b[1])\n",
    "print(c[2])\n",
    "print(d[3])\n",
    "print(e[4])\n",
    "print(f[0])\n",
    "\n",
    "\n"
   ]
  },
  {
   "cell_type": "code",
   "execution_count": 35,
   "metadata": {},
   "outputs": [
    {
     "name": "stdout",
     "output_type": "stream",
     "text": [
      "3 4\n",
      "3\n",
      "4\n",
      "5 6\n",
      "5\n",
      "6\n"
     ]
    }
   ],
   "source": [
    "# Classes and Objects in python\n",
    "# Class is a blueprint for creating objects\n",
    "# Object is an instance of a class\n",
    "# Class is defined by keyword class\n",
    "# Class name is defined by capital letter\n",
    "# Class can have attributes and methods\n",
    "# Attributes are variables inside a class\n",
    "# Methods are functions inside a class\n",
    "# __init__() function is used to assign values to object properties\n",
    "# __init__() function is called automatically every time the class is being used to create a new object\n",
    "# self parameter is a reference to the current instance of the class, and is used to access variables that belongs to the class\n",
    "\n",
    "class MyClass:\n",
    "    x = 5 #attribute\n",
    "    y = 10 #attribute\n",
    "\n",
    "    def __init__(self, x, y): #method\n",
    "        self.x = x\n",
    "        self.y = y\n",
    "\n",
    "    def myfunc(self): #method\n",
    "        print(self.x, self.y)\n",
    "\n",
    "p1 = MyClass(3, 4) #object\n",
    "p1.myfunc() #method print the value of x and y\n",
    "print(p1.x) #attribute\n",
    "print(p1.y) #attribute\n",
    "\n",
    "p2 = MyClass(5, 6) #object\n",
    "p2.myfunc() #method  print the value of x and y\n",
    "print(p2.x) #attribute\n",
    "print(p2.y) #attribute\n",
    "\n"
   ]
  }
 ],
 "metadata": {
  "kernelspec": {
   "display_name": "Python 3",
   "language": "python",
   "name": "python3"
  },
  "language_info": {
   "codemirror_mode": {
    "name": "ipython",
    "version": 3
   },
   "file_extension": ".py",
   "mimetype": "text/x-python",
   "name": "python",
   "nbconvert_exporter": "python",
   "pygments_lexer": "ipython3",
   "version": "3.11.3"
  }
 },
 "nbformat": 4,
 "nbformat_minor": 2
}
